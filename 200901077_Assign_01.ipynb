{
  "nbformat": 4,
  "nbformat_minor": 0,
  "metadata": {
    "colab": {
      "provenance": []
    },
    "kernelspec": {
      "name": "python3",
      "display_name": "Python 3"
    },
    "language_info": {
      "name": "python"
    }
  },
  "cells": [
    {
      "cell_type": "code",
      "execution_count": 1,
      "metadata": {
        "colab": {
          "base_uri": "https://localhost:8080/"
        },
        "id": "GmO7x-W8FedP",
        "outputId": "1d361027-5123-4f28-b79b-f41589cbe124"
      },
      "outputs": [
        {
          "output_type": "stream",
          "name": "stdout",
          "text": [
            "\n",
            "The shortest path using BFS = ['Arad', 'Sibiu', 'Fagaras', 'Bucharest']\n",
            "\n",
            "The shortest path using DFS is = ['Arad', 'Sibiu', 'Rimnicu Vilcea', 'Pitesti', 'Bucharest']\n",
            "\n",
            "BFS performs better.\n"
          ]
        }
      ],
      "source": [
        "# MUhammad Ahmad SIddique\n",
        "# 200901077\n",
        "# BS(CS-01 B)\n",
        "\n",
        "#Applying DFS and BFS on this romaninan example\n",
        "\n",
        "Romanian_Example = {\n",
        "    #'City_NAME': ['the destination they can move to other cities']\n",
        "    'Arad': ['Timisoara','Zerind', 'Sibiu'],\n",
        "    'Timisoara': ['Arad', 'Lugoj'],\n",
        "    'Lugoj': ['Timisoara', 'Mehadia'],\n",
        "    'Mehadia': ['Lugoj', 'Drobeta'],\n",
        "    'Drobeta': ['Mehadia', 'Craiova'],\n",
        "    'Craiova': ['Drobeta', 'Rimnicu Vilcea', 'Pitesti'],\n",
        "    'Rimnicu Vilcea': ['Sibiu', 'Craiova', 'Pitesti'],\n",
        "    'Sibiu': ['Arad', 'Oradea', 'Fagaras', 'Rimnicu Vilcea'],\n",
        "    'Oradea': ['Zerind', 'Sibiu'],\n",
        "    'Zerind': ['Oradea', 'Arad'],\n",
        "    'Fagaras': ['Sibiu', 'Bucharest'],\n",
        "    'Pitesti': ['Rimnicu Vilcea', 'Craiova', 'Bucharest'],\n",
        "    'Bucharest': ['Fagaras', 'Pitesti', 'Giurgiu', 'Urziceni'],\n",
        "    'Giurgiu': ['Bucharest'],\n",
        "    'Urziceni': ['Bucharest', 'Vaslui', 'Hirsova'],\n",
        "    'Hirsova': ['Urziceni', 'Eforie'],\n",
        "    'Eforie': ['Hirsova'],\n",
        "    'Vaslui': ['Urziceni', 'Iasi'],\n",
        "    'Iasi': ['Vaslui', 'Neamt'],\n",
        "    'Neamt': ['Iasi']\n",
        "}\n",
        "\n",
        "#Depth First(uses Stack)\n",
        "class DFS:\n",
        "    def shortest_path(self, graph, source_node, goal_node):\n",
        "        visited,stack = set(),[[source_node]]\n",
        "\n",
        "        while stack:\n",
        "            path = stack.pop()\n",
        "            node = path[-1]\n",
        "\n",
        "            if node not in visited:\n",
        "                visited.add(node)\n",
        "                for neighbor in graph[node]:\n",
        "                    new_path = path + [neighbor]\n",
        "                    stack.append(new_path)\n",
        "\n",
        "            if node == goal_node:\n",
        "                return path\n",
        "        return None\n",
        "\n",
        "\n",
        "#Bread First(Uses queue)\n",
        "class BFS:\n",
        "    def shortest_path(self, graph, source_node, goal):\n",
        "        visited,queue = set(),[[source_node]]\n",
        "\n",
        "        while queue:\n",
        "            path = queue.pop(0)\n",
        "            node = path[-1]\n",
        "\n",
        "            if node not in visited:\n",
        "                visited.add(node)\n",
        "                for neighbor in graph[node]:\n",
        "                    new_path = path + [neighbor]\n",
        "                    queue.append(new_path)\n",
        "\n",
        "            if node == goal:\n",
        "                return path\n",
        "        return None\n",
        "\n",
        "dfs = DFS()\n",
        "bfs = BFS()\n",
        "#                                       Modules:     'Source' , 'Destination'\n",
        "shortest_path_dfs = dfs.shortest_path(Romanian_Example, 'Arad', 'Bucharest')\n",
        "shortest_path_bfs = bfs.shortest_path(Romanian_Example, 'Arad', 'Bucharest')\n",
        "\n",
        "\n",
        "print(\"\\nThe shortest path using BFS =\", shortest_path_bfs)\n",
        "print(\"\\nThe shortest path using DFS is =\", shortest_path_dfs)\n",
        "\n",
        "#Comparing which performs better\n",
        "if len(shortest_path_bfs) < len(shortest_path_dfs):\n",
        "    print(\"\\nBFS performs better.\")\n",
        "elif len(shortest_path_bfs) > len(shortest_path_dfs):\n",
        "    print(\"\\nDFS performs better.\")\n",
        "else:\n",
        "    print(\"\\nBoth are same\")\n"
      ]
    }
  ]
}