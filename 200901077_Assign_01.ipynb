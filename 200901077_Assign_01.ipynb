{
  "nbformat": 4,
  "nbformat_minor": 0,
  "metadata": {
    "colab": {
      "provenance": []
    },
    "kernelspec": {
      "name": "python3",
      "display_name": "Python 3"
    },
    "language_info": {
      "name": "python"
    }
  },
  "cells": [
    {
      "cell_type": "code",
      "source": [
        "# MUhammad Ahmad SIddique\n",
        "# 200901077\n",
        "# BS(CS-01 B)\n",
        "\n",
        "#Applying DFS and BFS on this romaninan example\n",
        "\n",
        "Romanian_Example = {\n",
        "  'Arad': {'Zerind': 75, 'Timisoara': 118, 'Sibiu': 140},\n",
        "  'Bucharest': {'Urziceni': 85, 'Pitesti': 101, 'Giurgiu': 90, 'Fagaras': 211},\n",
        "  'Craiova': {'Dobreta': 120, 'Rimnicu Vilcea': 146, 'Pitesti': 138},\n",
        "  'Dobreta': {'Mehadia': 75, 'Craiova': 120},\n",
        "  'Eforie': {'Hirsova': 86},\n",
        "  'Fagaras': {'Sibiu': 99, 'Bucharest': 211},\n",
        "  'Giurgiu': {'Bucharest': 90},\n",
        "  'Hirsova': {'Urziceni': 98, 'Eforie': 86},\n",
        "  'Iasi': {'Neamt': 87, 'Vaslui': 92},\n",
        "  'Lugoj': {'Timisoara': 111, 'Mehadia': 70},\n",
        "  'Mehadia': {'Lugoj': 70, 'Dobreta': 75},\n",
        "  'Neamt': {'Iasi': 87},\n",
        "  'Oradea': {'Zerind': 71, 'Sibiu': 151},\n",
        "  'Pitesti': {'Rimnicu Vilcea': 97, 'Bucharest': 101, 'Craiova': 138},\n",
        "  'Rimnicu Vilcea': {'Sibiu': 80, 'Craiova': 146, 'Pitesti': 97},\n",
        "  'Sibiu': {'Arad': 140, 'Oradea': 151, 'Fagaras': 99, 'Rimnicu Vilcea': 80},\n",
        "  'Timisoara': {'Arad': 118, 'Lugoj': 111},\n",
        "  'Urziceni': {'Bucharest': 85, 'Hirsova': 98, 'Vaslui': 142},\n",
        "  'Vaslui': {'Iasi': 92, 'Urziceni': 142},\n",
        "  'Zerind': {'Arad': 75, 'Oradea': 71}\n",
        "}\n",
        "\n",
        "#Depth First(uses Stack)\n",
        "class DFS:\n",
        "    def DFS_Path(self, graph, source_node, goal_node):\n",
        "        visited,stack = set(),[[source_node]]\n",
        "\n",
        "        while stack:\n",
        "            path = stack.pop()\n",
        "            node = path[-1]\n",
        "\n",
        "            if node not in visited:\n",
        "                visited.add(node)\n",
        "                for neighbor in graph[node]:\n",
        "                    new_path = path + [neighbor]\n",
        "                    stack.append(new_path)\n",
        "\n",
        "            if node == goal_node:\n",
        "                return path\n",
        "        return None\n",
        "\n",
        "\n",
        "#Bread First(Uses queue)\n",
        "class BFS:\n",
        "    def BFS_path(self, graph, source_node, goal):\n",
        "        visited,queue = set(),[[source_node]]\n",
        "\n",
        "        while queue:\n",
        "            path = queue.pop(0)\n",
        "            node = path[-1]\n",
        "\n",
        "            if node not in visited:\n",
        "                visited.add(node)\n",
        "                for neighbor in graph[node]:\n",
        "                    new_path = path + [neighbor]\n",
        "                    queue.append(new_path)\n",
        "\n",
        "            if node == goal:\n",
        "                return path\n",
        "        return None\n",
        "\n",
        "dfs = DFS()\n",
        "bfs = BFS()\n",
        "#                         Modules:     'Source' , 'Destination'\n",
        "DFS_Path = dfs.DFS_Path(Romanian_Example, 'Arad', 'Bucharest')\n",
        "BFS_path = bfs.BFS_path(Romanian_Example, 'Arad', 'Bucharest')\n",
        "\n",
        "\n",
        "print(\"\\nThe shortest path using BFS =\", BFS_path)\n",
        "print(\"\\nThe shortest path using DFS is =\", DFS_Path)\n",
        "\n",
        "#Comparing which performs better\n",
        "if DFS_Path and BFS_path:\n",
        "    dfs_dist = sum(Romanian_Example[DFS_Path[i]][DFS_Path[i + 1]] for i in range(len(DFS_Path) - 1))\n",
        "    bfs_dist = sum(Romanian_Example[BFS_path[i]][BFS_path[i + 1]] for i in range(len(BFS_path) - 1))\n",
        "\n",
        "    if bfs_dist < dfs_dist:\n",
        "        print(\"\\nBFS performs better with total distance= \", bfs_dist)\n",
        "    elif bfs_dist > dfs_dist:\n",
        "        print(\"\\nDFS performs better with total distance \", dfs_dist)\n",
        "    else:\n",
        "        print(\"\\nBoth have same distance of \", bfs_dist)\n",
        "else:\n",
        "    print(\"No path\")"
      ],
      "metadata": {
        "colab": {
          "base_uri": "https://localhost:8080/"
        },
        "id": "H6BfjdA8RZrD",
        "outputId": "4000c5b6-892d-4830-8d6e-fa00bae76040"
      },
      "execution_count": 12,
      "outputs": [
        {
          "output_type": "stream",
          "name": "stdout",
          "text": [
            "\n",
            "The shortest path using BFS = ['Arad', 'Sibiu', 'Fagaras', 'Bucharest']\n",
            "\n",
            "The shortest path using DFS is = ['Arad', 'Sibiu', 'Rimnicu Vilcea', 'Pitesti', 'Bucharest']\n",
            "\n",
            "DFS performs better with total distance  418\n"
          ]
        }
      ]
    }
  ]
}