{
  "nbformat": 4,
  "nbformat_minor": 0,
  "metadata": {
    "colab": {
      "provenance": []
    },
    "kernelspec": {
      "name": "python3",
      "display_name": "Python 3"
    },
    "language_info": {
      "name": "python"
    }
  },
  "cells": [
    {
      "cell_type": "code",
      "execution_count": 2,
      "metadata": {
        "colab": {
          "base_uri": "https://localhost:8080/"
        },
        "id": "GmO7x-W8FedP",
        "outputId": "eedcf17c-46c4-4ce4-86e4-2720dfe59f8f"
      },
      "outputs": [
        {
          "output_type": "stream",
          "name": "stdout",
          "text": [
            "\n",
            "The shortest path using BFS = ['Arad', 'Sibiu', 'Fagaras', 'Bucharest']\n",
            "\n",
            "The shortest path using DFS is = ['Arad', 'Sibiu', 'Rimnicu Vilcea', 'Pitesti', 'Bucharest']\n",
            "\n",
            "BFS performs better.\n"
          ]
        }
      ],
      "source": [
        "# MUhammad Ahmad SIddique\n",
        "# 200901077\n",
        "# BS(CS-01 B)\n",
        "\n",
        "#Applying DFS and BFS on this romaninan example\n",
        "\n",
        "Romanian_Example = {\n",
        "    #'City_NAME': ['the destination they can move to other cities']\n",
        "    'Arad': ['Timisoara','Zerind', 'Sibiu'],\n",
        "    'Timisoara': ['Arad', 'Lugoj'],\n",
        "    'Lugoj': ['Timisoara', 'Mehadia'],\n",
        "    'Mehadia': ['Lugoj', 'Drobeta'],\n",
        "    'Drobeta': ['Mehadia', 'Craiova'],\n",
        "    'Craiova': ['Drobeta', 'Rimnicu Vilcea', 'Pitesti'],\n",
        "    'Rimnicu Vilcea': ['Sibiu', 'Craiova', 'Pitesti'],\n",
        "    'Sibiu': ['Arad', 'Oradea', 'Fagaras', 'Rimnicu Vilcea'],\n",
        "    'Oradea': ['Zerind', 'Sibiu'],\n",
        "    'Zerind': ['Oradea', 'Arad'],\n",
        "    'Fagaras': ['Sibiu', 'Bucharest'],\n",
        "    'Pitesti': ['Rimnicu Vilcea', 'Craiova', 'Bucharest'],\n",
        "    'Bucharest': ['Fagaras', 'Pitesti', 'Giurgiu', 'Urziceni'],\n",
        "    'Giurgiu': ['Bucharest'],\n",
        "    'Urziceni': ['Bucharest', 'Vaslui', 'Hirsova'],\n",
        "    'Hirsova': ['Urziceni', 'Eforie'],\n",
        "    'Eforie': ['Hirsova'],\n",
        "    'Vaslui': ['Urziceni', 'Iasi'],\n",
        "    'Iasi': ['Vaslui', 'Neamt'],\n",
        "    'Neamt': ['Iasi']\n",
        "}\n",
        "\n",
        "#Depth First(uses Stack)\n",
        "class DFS:\n",
        "    def DFS_Path(self, graph, source_node, goal_node):\n",
        "        visited,stack = set(),[[source_node]]\n",
        "\n",
        "        while stack:\n",
        "            path = stack.pop()\n",
        "            node = path[-1]\n",
        "\n",
        "            if node not in visited:\n",
        "                visited.add(node)\n",
        "                for neighbor in graph[node]:\n",
        "                    new_path = path + [neighbor]\n",
        "                    stack.append(new_path)\n",
        "\n",
        "            if node == goal_node:\n",
        "                return path\n",
        "        return None\n",
        "\n",
        "\n",
        "#Bread First(Uses queue)\n",
        "class BFS:\n",
        "    def BFS_path(self, graph, source_node, goal):\n",
        "        visited,queue = set(),[[source_node]]\n",
        "\n",
        "        while queue:\n",
        "            path = queue.pop(0)\n",
        "            node = path[-1]\n",
        "\n",
        "            if node not in visited:\n",
        "                visited.add(node)\n",
        "                for neighbor in graph[node]:\n",
        "                    new_path = path + [neighbor]\n",
        "                    queue.append(new_path)\n",
        "\n",
        "            if node == goal:\n",
        "                return path\n",
        "        return None\n",
        "\n",
        "dfs = DFS()\n",
        "bfs = BFS()\n",
        "#                                       Modules:     'Source' , 'Destination'\n",
        "DFS_Path = dfs.DFS_Path(Romanian_Example, 'Arad', 'Bucharest')\n",
        "BFS_path = bfs.BFS_path(Romanian_Example, 'Arad', 'Bucharest')\n",
        "\n",
        "\n",
        "print(\"\\nThe shortest path using BFS =\", BFS_path)\n",
        "print(\"\\nThe shortest path using DFS is =\", DFS_Path)\n",
        "\n",
        "#Comparing which performs better\n",
        "if len(BFS_path) < len(DFS_Path):\n",
        "    print(\"\\nBFS performs better.\")\n",
        "elif len(BFS_path) > len(DFS_Path):\n",
        "    print(\"\\nDFS performs better.\")\n",
        "else:\n",
        "    print(\"\\nBoth are same\")\n"
      ]
    }
  ]
}